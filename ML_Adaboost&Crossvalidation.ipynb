{
  "nbformat": 4,
  "nbformat_minor": 0,
  "metadata": {
    "colab": {
      "provenance": [],
      "authorship_tag": "ABX9TyP5i9gce2Prb90XObGxoSGw",
      "include_colab_link": true
    },
    "kernelspec": {
      "name": "python3",
      "display_name": "Python 3"
    },
    "language_info": {
      "name": "python"
    }
  },
  "cells": [
    {
      "cell_type": "markdown",
      "metadata": {
        "id": "view-in-github",
        "colab_type": "text"
      },
      "source": [
        "<a href=\"https://colab.research.google.com/github/Prathi7/Machine-Learning-Concepts/blob/main/ML_Adaboost%26Crossvalidation.ipynb\" target=\"_parent\"><img src=\"https://colab.research.google.com/assets/colab-badge.svg\" alt=\"Open In Colab\"/></a>"
      ]
    },
    {
      "cell_type": "code",
      "execution_count": null,
      "metadata": {
        "id": "mIoFzdcKjvi5"
      },
      "outputs": [],
      "source": [
        "from sklearn import datasets\n",
        "import numpy as np\n",
        "import matplotlib.pyplot as plt\n",
        "from sklearn.ensemble import AdaBoostClassifier\n",
        "from sklearn.tree import DecisionTreeClassifier\n",
        "from sklearn.model_selection import KFold\n",
        "from sklearn.model_selection import cross_val_score\n",
        "RANDOM_STATE = 101\n"
      ]
    },
    {
      "cell_type": "code",
      "source": [
        "cancer = datasets.load_breast_cancer()\n",
        "\n",
        "X = cancer.data\n",
        "y = cancer.target\n",
        "\n",
        "# Initialize arrays to store accuracy values\n",
        "depths = range(1, 6)\n",
        "accuracies = []\n",
        "\n",
        "# Perform cross-validation for each depth\n",
        "for depth in depths:\n",
        "    # Create an AdaBoost classifier with a decision tree base learner\n",
        "    base_classifier = DecisionTreeClassifier(max_depth=depth,random_state=RANDOM_STATE)\n",
        "    ada_classifier = AdaBoostClassifier(base_classifier,n_estimators=10,learning_rate=1,random_state=RANDOM_STATE)\n",
        "\n",
        "    # Perform 10-fold cross-validation\n",
        "    scores = cross_val_score(ada_classifier, X, y, cv = KFold(n_splits=10, random_state=RANDOM_STATE, shuffle=True), scoring='accuracy')\n",
        "\n",
        "    # Record the mean accuracy\n",
        "    accuracies.append(scores.mean())\n",
        "\n",
        "# Plot the accuracy vs. base classifier depth\n",
        "plt.plot(depths, accuracies, marker='o')\n",
        "plt.title('Accuracy vs. Base Classifier Depth for AdaBoost')\n",
        "plt.xlabel('Base Classifier Depth')\n",
        "plt.ylabel('Accuracy')\n",
        "plt.grid(True)\n",
        "plt.show()\n"
      ],
      "metadata": {
        "id": "6ifF23pGj1Ag"
      },
      "execution_count": null,
      "outputs": []
    }
  ]
}
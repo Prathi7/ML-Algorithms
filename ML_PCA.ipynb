{
  "nbformat": 4,
  "nbformat_minor": 0,
  "metadata": {
    "colab": {
      "provenance": [],
      "authorship_tag": "ABX9TyNfEnyD07vQXwwQEJJfo4fR",
      "include_colab_link": true
    },
    "kernelspec": {
      "name": "python3",
      "display_name": "Python 3"
    },
    "language_info": {
      "name": "python"
    }
  },
  "cells": [
    {
      "cell_type": "markdown",
      "metadata": {
        "id": "view-in-github",
        "colab_type": "text"
      },
      "source": [
        "<a href=\"https://colab.research.google.com/github/Prathi7/Machine-Learning-Concepts/blob/main/ML_PCA.ipynb\" target=\"_parent\"><img src=\"https://colab.research.google.com/assets/colab-badge.svg\" alt=\"Open In Colab\"/></a>"
      ]
    },
    {
      "cell_type": "code",
      "execution_count": null,
      "metadata": {
        "id": "v76V11kxnC_8"
      },
      "outputs": [],
      "source": [
        "plt.figure(figsize=(12, 8))\n",
        "from sklearn.preprocessing import StandardScaler\n",
        "from sklearn.decomposition import PCA\n",
        "\n",
        "cancer = datasets.load_breast_cancer()\n",
        "\n",
        "x = pd.DataFrame(cancer.data, columns = cancer.feature_names)\n",
        "y = cancer.target\n",
        "\n",
        "\n",
        "\n",
        "transform_data = StandardScaler().fit_transform(x,y)\n",
        "\n",
        "\n",
        "pca_comp = 2\n",
        "# Using SVD\n",
        "U, S, VT = np.linalg.svd(transform_data,full_matrices=False)\n",
        "U = U[:, :pca_comp]\n",
        "S = np.diag(S[:pca_comp])\n",
        "VT = VT[:pca_comp, :]\n",
        "\n",
        "for i in range(pca_comp):\n",
        "    if U[0, i] < 0:\n",
        "        U[:, i] = -U[:, i]\n",
        "\n",
        "svd_pca = np.dot(U,S)\n",
        "print (svd_pca)\n",
        "\n",
        "\n",
        "\n",
        "#PCA\n",
        "pca = PCA(n_components=pca_comp)\n",
        "scpca = pca.fit_transform(transform_data)\n",
        "print(scpca)\n",
        "\n",
        "\n",
        "scatter = plt.scatter(svd_pca[:, 0], svd_pca[:, 1], c = y)\n",
        "plt.legend(handles=scatter.legend_elements()[0], labels=list(cancer.target_names))\n",
        "plt.xlabel(\"First Principal Component\")\n",
        "plt.ylabel(\"Second Principal Component\")\n",
        "plt.title(\"PCA Scatterplot (SVD)\")\n",
        "plt.show()\n",
        "\n",
        "plt.figure(figsize=(12, 8))\n",
        "plt.scatter(scpca[:, 0], scpca[:, 1], cmap='viridis', c = y)\n",
        "plt.legend(handles=scatter.legend_elements()[0], labels=list(cancer.target_names))\n",
        "plt.xlabel(\"First Principal Component\")\n",
        "plt.ylabel(\"Second Principal Component\")\n",
        "plt.title(\"PCA Scatterplot using SCIKIT Defaults\")\n",
        "plt.show()\n",
        "\n",
        "\n",
        "# Thus results are exactly same\n",
        "# Plots are identical\n",
        "# From plots, Yes, data look roughly separable already in two dimensions\n"
      ]
    }
  ]
}
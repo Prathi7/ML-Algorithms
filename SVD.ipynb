{
  "nbformat": 4,
  "nbformat_minor": 0,
  "metadata": {
    "colab": {
      "provenance": [],
      "authorship_tag": "ABX9TyNqXkWo+kNGh+Fw4GrnQdsK",
      "include_colab_link": true
    },
    "kernelspec": {
      "name": "python3",
      "display_name": "Python 3"
    },
    "language_info": {
      "name": "python"
    }
  },
  "cells": [
    {
      "cell_type": "markdown",
      "metadata": {
        "id": "view-in-github",
        "colab_type": "text"
      },
      "source": [
        "<a href=\"https://colab.research.google.com/github/Prathi7/ML-Algorithms/blob/main/SVD.ipynb\" target=\"_parent\"><img src=\"https://colab.research.google.com/assets/colab-badge.svg\" alt=\"Open In Colab\"/></a>"
      ]
    },
    {
      "cell_type": "code",
      "execution_count": null,
      "metadata": {
        "id": "xJ6Ou-Ljmecy"
      },
      "outputs": [],
      "source": [
        "import matplotlib.pyplot as plt\n",
        "import numpy as np\n",
        "import pandas as pd\n",
        "from numpy.linalg import svd\n",
        "from sklearn import datasets\n",
        "import ssl\n",
        "ssl._create_default_https_context = ssl._create_unverified_context"
      ]
    },
    {
      "cell_type": "code",
      "source": [
        "#Image compression using SVD\n",
        "\n",
        "data = datasets.fetch_olivetti_faces()\n",
        "images = data.images"
      ],
      "metadata": {
        "colab": {
          "base_uri": "https://localhost:8080/"
        },
        "id": "Isz71pcEmnDs",
        "outputId": "20d2103e-2694-4e6e-bb58-c8a7266140d7"
      },
      "execution_count": null,
      "outputs": [
        {
          "output_type": "stream",
          "name": "stdout",
          "text": [
            "downloading Olivetti faces from https://ndownloader.figshare.com/files/5976027 to /root/scikit_learn_data\n"
          ]
        }
      ]
    },
    {
      "cell_type": "code",
      "source": [
        "# Returns the best rank-k approximation to M\n",
        "def svd_reconstruct(M, k):\n",
        "    # TODO: Complete this!\n",
        "    # Advice: pass in full_matrices=False to svd to avoid dimensionality issues\n",
        "    U, S, VT = np.linalg.svd(M,full_matrices=False)\n",
        "\n",
        "    # Construct the rank-k approximation\n",
        "    U_k = U[:, :k]\n",
        "    S_k = np.diag(S[:k])\n",
        "    VT_k = VT[:k, :]\n",
        "\n",
        "    # Calculate the rank-k approximation\n",
        "    rank_k_appr = np.dot(np.dot(U_k, S_k), VT_k)\n",
        "\n",
        "    return(rank_k_appr)\n",
        "\n",
        "\n",
        "def reconst_error(M, A):\n",
        "    m, n = M.shape\n",
        "    error = 0\n",
        "\n",
        "    for i in range(m):\n",
        "        for j in range(n):\n",
        "            error_i = abs(M[i,j] - A[i,j])\n",
        "            error += error_i\n",
        "    error = error/ (m*n)\n",
        "\n",
        "    return (error)\n",
        "\n",
        "\n",
        "err_list = []\n",
        "\n",
        "r = np.array(range(1,31))\n",
        "for k in range(1,31):\n",
        "    # print(k)\n",
        "    err_k = 0\n",
        "    for j in range(0,images.shape[0]):\n",
        "        M = images[j,:,:]\n",
        "        A = svd_reconstruct(M,k)\n",
        "        err_i = reconst_error(M, A)\n",
        "        err_k += err_i\n",
        "    err_k = err_k /images.shape[0]\n",
        "    err_list.append(err_k)\n",
        "\n",
        "print(err_list)\n",
        "\n",
        "print(len(r))\n",
        "print(len(err_list))\n",
        "\n",
        "plt.plot(r, err_list, marker='o', label='Reconstruction Error')\n",
        "plt.xlabel('Rank (k)')\n",
        "plt.ylabel('Reconstruction Error')\n",
        "plt.title('Reconstruction Error vs Rank')\n",
        "plt.legend()\n",
        "# plt.xticks(k)\n",
        "plt.grid(True)\n",
        "plt.show()\n",
        "\n",
        "\n",
        "# Returns the best rank-k approximation to M\n",
        "def svd_reconstruct(M, k):\n",
        "    # TODO: Complete this!\n",
        "    # Advice: pass in full_matrices=False to svd to avoid dimensionality issues\n",
        "    U, S, VT = np.linalg.svd(M,full_matrices=False)\n",
        "\n",
        "    # Construct the rank-k approximation\n",
        "    U_k = U[:, :k]\n",
        "    S_k = np.diag(S[:k])\n",
        "    VT_k = VT[:k, :]\n",
        "\n",
        "    # Calculate the rank-k approximation\n",
        "    rank_k_appr = np.dot(np.dot(U_k, S_k), VT_k)\n",
        "\n",
        "    return(rank_k_appr)\n",
        "\n",
        "\n",
        "def reconst_error(M, A):\n",
        "    m, n = M.shape\n",
        "    error = 0\n",
        "\n",
        "    for i in range(m):\n",
        "        for j in range(n):\n",
        "            error_i = abs(M[i,j] - A[i,j])\n",
        "            error += error_i\n",
        "    error = error/ (m*n)\n",
        "\n",
        "    return (error)\n",
        "\n",
        "\n",
        "err_list = []\n",
        "\n",
        "r = np.array(range(1,31))\n",
        "for k in range(1,31):\n",
        "    # print(k)\n",
        "    err_k = 0\n",
        "    for j in range(0,images.shape[0]):\n",
        "        M = images[j,:,:]\n",
        "        A = svd_reconstruct(M,k)\n",
        "        err_i = reconst_error(M, A)\n",
        "        err_k += err_i\n",
        "    err_k = err_k /images.shape[0]\n",
        "    err_list.append(err_k)\n",
        "\n",
        "print(err_list)\n",
        "\n",
        "print(len(r))\n",
        "print(len(err_list))\n",
        "\n",
        "plt.plot(r, err_list, marker='o', label='Reconstruction Error')\n",
        "plt.xlabel('Rank (k)')\n",
        "plt.ylabel('Reconstruction Error')\n",
        "plt.title('Reconstruction Error vs Rank')\n",
        "plt.legend()\n",
        "# plt.xticks(k)\n",
        "plt.grid(True)\n",
        "plt.show()\n",
        "\n",
        "\n",
        "\n"
      ],
      "metadata": {
        "id": "gHJ5IvlrmvAr"
      },
      "execution_count": null,
      "outputs": []
    },
    {
      "cell_type": "code",
      "source": [],
      "metadata": {
        "id": "hJrJTLjXm7jV"
      },
      "execution_count": null,
      "outputs": []
    }
  ]
}